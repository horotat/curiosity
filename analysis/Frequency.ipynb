{
 "cells": [
  {
   "cell_type": "markdown",
   "metadata": {},
   "source": [
    "# Imports"
   ]
  },
  {
   "cell_type": "code",
   "execution_count": 2,
   "metadata": {},
   "outputs": [],
   "source": [
    "# to import from the parent directories\n",
    "import os,sys,inspect\n",
    "current_dir = os.path.dirname(os.path.abspath(inspect.getfile(inspect.currentframe())))\n",
    "parent_dir = os.path.dirname(current_dir)\n",
    "sys.path.insert(0, parent_dir) \n",
    "\n",
    "# libraries used\n",
    "import torch\n",
    "import torch.nn as nn\n",
    "import numpy as np\n",
    "import json\n",
    "import pandas as pd\n",
    "import random\n",
    "import matplotlib.pyplot as plt\n",
    "\n",
    "# our functions\n",
    "import agent\n",
    "from toolbox import mkdir, model_best_acc_detector, load_numpy, UniversalConstants, UniversalData, load_listener_model, load_data, imgn_per_x_objn, dict_to_batches, make_vocabulary, make_index_table, get_word_ix, make_ix_to_word, logit_word_ix_map, logit_mean, logit_catch_in_one_batch, logit_dict_making, load_val_batch_analysis"
   ]
  },
  {
   "cell_type": "markdown",
   "metadata": {},
   "source": [
    "# Frequency Influence Analysis\n",
    "\n",
    "In this analysis notebook we are going through these levels and tasks:\n",
    "\n",
    "1. [Defining Constants and reading Data](#data)\n",
    "2. [Load the most accurate listener model](#load)\n",
    "    1. [Find the most accurate model](#best)\n",
    "    2. [Load it](#load_it)\n",
    "Load the Model\n",
    "2. Make dataframe to keep logits\n",
    "3. Extract Logits and save them into df\n",
    "4. Take the mean\n",
    "5. Make the plot\n",
    "\n",
    "## Doc\n",
    "Here comes a short documentation of what is going on:\n",
    "\n",
    "### Variables\n",
    "* `validation_data`:\n",
    "    is a `list` of len `1000`, containing the id of images\n",
    "* `no_objs_val`:\n",
    "* `val_batchlist`:\n",
    "* `path_dict_words_boxes`:"
   ]
  },
  {
   "cell_type": "markdown",
   "metadata": {},
   "source": [
    "## Defining Constants and reading Data <a name=\"data\"></a>"
   ]
  },
  {
   "cell_type": "markdown",
   "metadata": {},
   "source": [
    "### Global Constants"
   ]
  },
  {
   "cell_type": "code",
   "execution_count": 10,
   "metadata": {},
   "outputs": [],
   "source": [
    "uc = UniversalConstants()\n",
    "ud = UniversalData()\n",
    "\n",
    "device = ud.device\n",
    "\n",
    "path_models = os.path.join(parent_dir, 'outfiles', 'models')\n",
    "\n",
    "\n",
    "#random.seed(a=seed)\n",
    "\n",
    "# setting torch seeds\n",
    "#torch.cuda.manual_seed(seed)\n",
    "#torch.manual_seed(seed)\n",
    "\n",
    "#np.random.seed(seed)"
   ]
  },
  {
   "cell_type": "code",
   "execution_count": 4,
   "metadata": {},
   "outputs": [],
   "source": [
    "#here_agent = listener\n",
    "setting = 'curious'\n",
    "which_set = 'train'"
   ]
  },
  {
   "cell_type": "markdown",
   "metadata": {},
   "source": [
    "### Data\n",
    "\n",
    "As we need to analyze the behaviour of the models on Validation, here we read the data about it."
   ]
  },
  {
   "cell_type": "code",
   "execution_count": 5,
   "metadata": {},
   "outputs": [
    {
     "name": "stdout",
     "output_type": "stream",
     "text": [
      "dict_words_boxes type:\t <class 'dict'> \n",
      "dict_words_boxes len:\t 24670\n"
     ]
    }
   ],
   "source": [
    "ha_vggs_indices = load_data(os.path.join(uc.paths['data'], \"ha_vgg_indices.json\"))\n",
    "\n",
    "dict_words_boxes = load_data(os.path.join(uc.paths['data'], \"dict_words_boxes.json\"))\n",
    "print(\"dict_words_boxes type:\\t\", type(dict_words_boxes), \"\\ndict_words_boxes len:\\t\", len(dict_words_boxes))\n",
    "\n",
    "vocab, freq = make_vocabulary(dict_words_boxes)  # Makes a vocabulary of the entire set of objects\n",
    "word_to_ix = make_index_table(vocab)  # Gives an index number to every word in the vocabulary todo: change name to\n",
    "# indexed_vocabulary\n",
    "\n",
    "ix_to_word_df = make_ix_to_word(word_to_ix)"
   ]
  },
  {
   "cell_type": "markdown",
   "metadata": {},
   "source": [
    "#### Validation Data"
   ]
  },
  {
   "cell_type": "code",
   "execution_count": 6,
   "metadata": {},
   "outputs": [
    {
     "name": "stdout",
     "output_type": "stream",
     "text": [
      "validation_data type:\t <class 'list'> \n",
      "validation_data len:\t 22670\n"
     ]
    }
   ],
   "source": [
    "validation_data = load_data(os.path.join(uc.paths['data'], \"train_data.txt\"))\n",
    "print(\"validation_data type:\\t\", type(validation_data), \"\\nvalidation_data len:\\t\", len(validation_data))"
   ]
  },
  {
   "cell_type": "code",
   "execution_count": 7,
   "metadata": {},
   "outputs": [],
   "source": [
    "no_objs_val = imgn_per_x_objn(dict_words_boxes, validation_data)\n",
    "\n",
    "# making validation batchlist\n",
    "val_batchlist = dict_to_batches(no_objs_val, uc.batchsize_default)"
   ]
  },
  {
   "cell_type": "markdown",
   "metadata": {},
   "source": [
    "## Find and Load the most Accurate model <a name=\"load\"></a>"
   ]
  },
  {
   "cell_type": "markdown",
   "metadata": {},
   "source": [
    "### Find the most accurate epochs in models <a name=\"find\"></a>"
   ]
  },
  {
   "cell_type": "code",
   "execution_count": 8,
   "metadata": {},
   "outputs": [],
   "source": [
    "path_loss_acc = os.path.join(parent_dir, 'loss_acc/')\n",
    "\n",
    "best = model_best_acc_detector(path_loss_acc, 'listener', setting, which_set, uc.final_seeds)"
   ]
  },
  {
   "cell_type": "markdown",
   "metadata": {},
   "source": [
    "### Load the model <a name=\"loadit\"></a>"
   ]
  },
  {
   "cell_type": "code",
   "execution_count": 12,
   "metadata": {},
   "outputs": [
    {
     "name": "stdout",
     "output_type": "stream",
     "text": [
      "Initializing word embeddings\n",
      "Initializing attention MLP weights...\n",
      "Initializing bias terms to all 0...\n",
      "att_hidden.bias\n",
      "attention.bias\n",
      "\n",
      "Model's state_dict:\n",
      "word_embedder.weight \t torch.Size([4238, 256])\n",
      "att_hidden.weight \t torch.Size([256, 4352])\n",
      "att_hidden.bias \t torch.Size([256])\n",
      "attention.weight \t torch.Size([1, 256])\n",
      "attention.bias \t torch.Size([1])\n",
      "------------------------------------------------------------\n",
      "------------------------------------------------------------\n",
      "\n"
     ]
    }
   ],
   "source": [
    "listener = load_listener_model(path_models, ud.indexed_vocab,device, setting, best['best_ep'], 0.001, best['best_seed'])"
   ]
  },
  {
   "cell_type": "code",
   "execution_count": 198,
   "metadata": {},
   "outputs": [],
   "source": [
    "result = logit_mean(listener, val_batchlist, freq, dict_words_boxes, word_to_ix, ix_to_word_df, uc.paths['data'], device)"
   ]
  },
  {
   "cell_type": "code",
   "execution_count": 205,
   "metadata": {},
   "outputs": [],
   "source": [
    "def fa_sort_on_freq(_logit_mean_result):\n",
    "    results_without_logit_list = logit_dict_making(_logit_mean_result, False)\n",
    "    result_df = pd.DataFrame.from_dict(results_without_logit_list, orient='index')\n",
    "    result_df = result_df.reset_index()\n",
    "    result_df = result_df.rename(columns={\"index\": 'word', 0: 'index'})\n",
    "    return result_df.sort_values(by='freq', ascending=False)"
   ]
  },
  {
   "cell_type": "code",
   "execution_count": 206,
   "metadata": {},
   "outputs": [],
   "source": [
    "sorted_on_freq = fa_sort_on_freq(result)"
   ]
  },
  {
   "cell_type": "markdown",
   "metadata": {},
   "source": [
    "### Save to CSV"
   ]
  },
  {
   "cell_type": "code",
   "execution_count": 207,
   "metadata": {},
   "outputs": [],
   "source": [
    "mkdir('frequency_analysis')\n",
    "_path_save_csv = os.path.join('frequency_analysis', 'freq_{}_table.csv'.format(setting))\n",
    "sorted_on_freq.to_csv(_path_save_csv , sep='\\t',header=True, index=None, encoding='utf-8')"
   ]
  },
  {
   "cell_type": "markdown",
   "metadata": {},
   "source": [
    "## Plot The Result <a name=\"plot\"></a>"
   ]
  },
  {
   "cell_type": "code",
   "execution_count": 208,
   "metadata": {},
   "outputs": [],
   "source": [
    "sorted_on_freq['difference'] = (sorted_on_freq['match']-sorted_on_freq['not_match'])\n",
    "rdf = sorted_on_freq"
   ]
  },
  {
   "cell_type": "code",
   "execution_count": 209,
   "metadata": {},
   "outputs": [
    {
     "data": {
      "text/plain": [
       "(4074, 5)"
      ]
     },
     "execution_count": 209,
     "metadata": {},
     "output_type": "execute_result"
    }
   ],
   "source": [
    "rdf[rdf['difference'] != 0].shape"
   ]
  },
  {
   "cell_type": "code",
   "execution_count": 210,
   "metadata": {
    "scrolled": true
   },
   "outputs": [],
   "source": [
    "rdf_without_zero = rdf[rdf['difference'] != 0]\n",
    "# rdf_without_zero"
   ]
  },
  {
   "cell_type": "code",
   "execution_count": 220,
   "metadata": {},
   "outputs": [
    {
     "data": {
      "text/plain": [
       "(0, 100)"
      ]
     },
     "execution_count": 220,
     "metadata": {},
     "output_type": "execute_result"
    },
    {
     "data": {
      "image/png": "[encoded data removed]",
      "text/plain": [
       "<matplotlib.figure.Figure at 0x7f30602600b8>"
      ]
     },
     "metadata": {},
     "output_type": "display_data"
    }
   ],
   "source": [
    "plt.figure(figsize=(18,10))\n",
    "plt.scatter(rdf_without_zero.freq, rdf_without_zero.difference)\n",
    "plt.xlim(0,100)\n",
    "# plt.ylim(-0.0000000000000000000000000001, 0.0000000000000000000000000001)"
   ]
  },
  {
   "cell_type": "code",
   "execution_count": 171,
   "metadata": {},
   "outputs": [
    {
     "data": {
      "text/plain": [
       "<matplotlib.collections.PathCollection at 0x7f305054f390>"
      ]
     },
     "execution_count": 171,
     "metadata": {},
     "output_type": "execute_result"
    },
    {
     "data": {
      "image/png": "[encoded data removed]",
      "text/plain": [
       "<matplotlib.figure.Figure at 0x7f30505de940>"
      ]
     },
     "metadata": {},
     "output_type": "display_data"
    }
   ],
   "source": [
    "plt.figure(figsize=(5,5))\n",
    "plt.scatter(rdf_without_zero.match, rdf_without_zero.not_match)\n",
    "# plt.xlim(0,100)"
   ]
  }
 ],
 "metadata": {
  "kernelspec": {
   "display_name": "Python 3",
   "language": "python",
   "name": "python3"
  },
  "language_info": {
   "codemirror_mode": {
    "name": "ipython",
    "version": 3
   },
   "file_extension": ".py",
   "mimetype": "text/x-python",
   "name": "python",
   "nbconvert_exporter": "python",
   "pygments_lexer": "ipython3",
   "version": "3.6.9"
  },
  "pycharm": {
   "stem_cell": {
    "cell_type": "raw",
    "metadata": {
     "collapsed": false
    },
    "source": []
   }
  }
 },
 "nbformat": 4,
 "nbformat_minor": 2
}
